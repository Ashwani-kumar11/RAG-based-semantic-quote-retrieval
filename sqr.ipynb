{
 "cells": [
  {
   "cell_type": "code",
   "execution_count": 3,
   "id": "906802e2",
   "metadata": {},
   "outputs": [],
   "source": [
    "import pandas as pd"
   ]
  },
  {
   "cell_type": "code",
   "execution_count": 18,
   "id": "4a658cdd",
   "metadata": {},
   "outputs": [],
   "source": [
    "\n",
    "from datasets import load_dataset\n",
    "\n",
    "dataset = load_dataset(\"Abirate/english_quotes\")\n",
    "\n"
   ]
  },
  {
   "cell_type": "code",
   "execution_count": 19,
   "id": "32e2e309",
   "metadata": {},
   "outputs": [
    {
     "name": "stdout",
     "output_type": "stream",
     "text": [
      "Cleaned samples: 2499\n"
     ]
    },
    {
     "data": {
      "text/html": [
       "<div>\n",
       "<style scoped>\n",
       "    .dataframe tbody tr th:only-of-type {\n",
       "        vertical-align: middle;\n",
       "    }\n",
       "\n",
       "    .dataframe tbody tr th {\n",
       "        vertical-align: top;\n",
       "    }\n",
       "\n",
       "    .dataframe thead th {\n",
       "        text-align: right;\n",
       "    }\n",
       "</style>\n",
       "<table border=\"1\" class=\"dataframe\">\n",
       "  <thead>\n",
       "    <tr style=\"text-align: right;\">\n",
       "      <th></th>\n",
       "      <th>quote</th>\n",
       "      <th>author</th>\n",
       "      <th>tags</th>\n",
       "    </tr>\n",
       "  </thead>\n",
       "  <tbody>\n",
       "    <tr>\n",
       "      <th>0</th>\n",
       "      <td>“be yourself; everyone else is already taken.”</td>\n",
       "      <td>oscar wilde</td>\n",
       "      <td>[be-yourself, gilbert-perreira, honesty, inspi...</td>\n",
       "    </tr>\n",
       "    <tr>\n",
       "      <th>1</th>\n",
       "      <td>“i'm selfish, impatient and a little insecure....</td>\n",
       "      <td>marilyn monroe</td>\n",
       "      <td>[best, life, love, mistakes, out-of-control, t...</td>\n",
       "    </tr>\n",
       "    <tr>\n",
       "      <th>2</th>\n",
       "      <td>“two things are infinite: the universe and hum...</td>\n",
       "      <td>albert einstein</td>\n",
       "      <td>[human-nature, humor, infinity, philosophy, sc...</td>\n",
       "    </tr>\n",
       "    <tr>\n",
       "      <th>3</th>\n",
       "      <td>“so many books, so little time.”</td>\n",
       "      <td>frank zappa</td>\n",
       "      <td>[books, humor]</td>\n",
       "    </tr>\n",
       "    <tr>\n",
       "      <th>4</th>\n",
       "      <td>“a room without books is like a body without a...</td>\n",
       "      <td>marcus tullius cicero</td>\n",
       "      <td>[books, simile, soul]</td>\n",
       "    </tr>\n",
       "  </tbody>\n",
       "</table>\n",
       "</div>"
      ],
      "text/plain": [
       "                                               quote                 author  \\\n",
       "0     “be yourself; everyone else is already taken.”            oscar wilde   \n",
       "1  “i'm selfish, impatient and a little insecure....         marilyn monroe   \n",
       "2  “two things are infinite: the universe and hum...        albert einstein   \n",
       "3                   “so many books, so little time.”            frank zappa   \n",
       "4  “a room without books is like a body without a...  marcus tullius cicero   \n",
       "\n",
       "                                                tags  \n",
       "0  [be-yourself, gilbert-perreira, honesty, inspi...  \n",
       "1  [best, life, love, mistakes, out-of-control, t...  \n",
       "2  [human-nature, humor, infinity, philosophy, sc...  \n",
       "3                                     [books, humor]  \n",
       "4                              [books, simile, soul]  "
      ]
     },
     "execution_count": 19,
     "metadata": {},
     "output_type": "execute_result"
    }
   ],
   "source": [
    "import json\n",
    "def preprocess_quotes(data):\n",
    "    cleaned_data = []\n",
    "    for item in data:\n",
    "        quote = item.get(\"quote\", \"\").strip().lower()\n",
    "        author = item.get(\"author\", \"\").strip().lower()\n",
    "        tags = [t.strip().lower() for t in item.get(\"tags\", []) if t.strip()]\n",
    "        \n",
    "        if quote and author and tags:\n",
    "            cleaned_data.append({\n",
    "                \"quote\": quote,\n",
    "                \"author\": author,\n",
    "                \"tags\": tags\n",
    "            })\n",
    "    return cleaned_data\n",
    "\n",
    "# Step 5: Apply preprocessing\n",
    "cleaned_quotes = preprocess_quotes(dataset['train'])\n",
    "df_cleaned = pd.DataFrame(cleaned_quotes)\n",
    "\n",
    "\n",
    "with open(\"cleaned_quotes.json\", \"w\") as f:\n",
    "    json.dump(cleaned_quotes, f, indent=2)\n",
    "\n",
    "\n",
    "print(f\"Cleaned samples: {len(cleaned_quotes)}\")\n",
    "df_cleaned.head()\n"
   ]
  },
  {
   "cell_type": "code",
   "execution_count": 5,
   "id": "2cf566d8",
   "metadata": {},
   "outputs": [
    {
     "name": "stdout",
     "output_type": "stream",
     "text": [
      "Number of unique authors: 867\n",
      "Top 10 authors:\n",
      "author\n",
      "cassandra clare,    99\n",
      "j.k. rowling,       75\n",
      "john green,         53\n",
      "roy t. bennett,     46\n",
      "mark twain          42\n",
      "albert einstein     35\n",
      "suzanne collins,    34\n",
      "nicholas sparks,    32\n",
      "oscar wilde,        30\n",
      "oscar wilde         30\n",
      "Name: count, dtype: int64\n",
      "Top 10 tags:\n",
      "[('love', 327), ('inspirational', 319), ('life', 295), ('humor', 254), ('books', 141), ('inspiration', 87), ('reading', 86), ('happiness', 68), ('writing', 67), ('inspirational-quotes', 65)]\n"
     ]
    },
    {
     "data": {
      "image/png": "[encoded data removed]",
      "text/plain": [
       "<Figure size 800x400 with 1 Axes>"
      ]
     },
     "metadata": {},
     "output_type": "display_data"
    },
    {
     "data": {
      "image/png": "[encoded data removed]",
      "text/plain": [
       "<Figure size 800x400 with 1 Axes>"
      ]
     },
     "metadata": {},
     "output_type": "display_data"
    }
   ],
   "source": [
    "import pandas as pd\n",
    "from collections import Counter\n",
    "import matplotlib.pyplot as plt\n",
    "\n",
    "df = pd.DataFrame(cleaned_quotes)\n",
    "\n",
    "print(\"Number of unique authors:\", df['author'].nunique())\n",
    "print(\"Top 10 authors:\")\n",
    "print(df['author'].value_counts().head(10))\n",
    "\n",
    "all_tags = [tag for sublist in df['tags'] for tag in sublist]\n",
    "tag_counts = Counter(all_tags).most_common(10)\n",
    "print(\"Top 10 tags:\")\n",
    "print(tag_counts)\n",
    "\n",
    "df['author'].value_counts().head(10).plot(kind='bar', title=\"Top 10 Authors\", figsize=(8, 4))\n",
    "plt.xlabel(\"Author\")\n",
    "plt.ylabel(\"Quote Count\")\n",
    "plt.show()\n",
    "\n",
    "tags_df = pd.DataFrame(tag_counts, columns=['tag', 'count'])\n",
    "tags_df.set_index('tag').plot(kind='bar', title=\"Top 10 Tags\", legend=False, figsize=(8, 4))\n",
    "plt.ylabel(\"Frequency\")\n",
    "plt.show()\n"
   ]
  },
  {
   "cell_type": "code",
   "execution_count": 6,
   "id": "40e3a0ae",
   "metadata": {},
   "outputs": [],
   "source": [
    "from sentence_transformers import SentenceTransformer, InputExample, losses\n",
    "from torch.utils.data import DataLoader\n",
    "import random\n",
    "\n",
    "# Load pre-trained model\n",
    "model = SentenceTransformer('all-MiniLM-L6-v2')\n",
    "\n",
    "train_examples = []\n",
    "for item in cleaned_quotes:\n",
    "    quote = item[\"quote\"]\n",
    "    author = item[\"author\"]\n",
    "    tags = item[\"tags\"]\n",
    "\n",
    "\n",
    "    tag_str = \" \".join(tags[:2]) \n",
    "    query = f\"quotes about {tag_str} by {author}\"\n",
    "    \n",
    "    train_examples.append(InputExample(texts=[query, quote]))\n",
    "\n",
    "random.shuffle(train_examples)\n",
    "\n",
    "train_dataloader = DataLoader(train_examples, shuffle=True, batch_size=16)\n",
    "train_loss = losses.MultipleNegativesRankingLoss(model)\n"
   ]
  },
  {
   "cell_type": "code",
   "execution_count": null,
   "id": "b5583b9e",
   "metadata": {},
   "outputs": [
    {
     "data": {
      "text/html": [
       "\n",
       "    <div>\n",
       "      \n",
       "      <progress value='7614' max='7850' style='width:300px; height:20px; vertical-align: middle;'></progress>\n",
       "      [7614/7850 6:07:11 < 11:23, 0.35 it/s, Epoch 48.49/50]\n",
       "    </div>\n",
       "    <table border=\"1\" class=\"dataframe\">\n",
       "  <thead>\n",
       " <tr style=\"text-align: left;\">\n",
       "      <th>Step</th>\n",
       "      <th>Training Loss</th>\n",
       "    </tr>\n",
       "  </thead>\n",
       "  <tbody>\n",
       "    <tr>\n",
       "      <td>500</td>\n",
       "      <td>0.209300</td>\n",
       "    </tr>\n",
       "    <tr>\n",
       "      <td>1000</td>\n",
       "      <td>0.128000</td>\n",
       "    </tr>\n",
       "    <tr>\n",
       "      <td>1500</td>\n",
       "      <td>0.087600</td>\n",
       "    </tr>\n",
       "    <tr>\n",
       "      <td>2000</td>\n",
       "      <td>0.057500</td>\n",
       "    </tr>\n",
       "    <tr>\n",
       "      <td>2500</td>\n",
       "      <td>0.047000</td>\n",
       "    </tr>\n",
       "    <tr>\n",
       "      <td>3000</td>\n",
       "      <td>0.036300</td>\n",
       "    </tr>\n",
       "    <tr>\n",
       "      <td>3500</td>\n",
       "      <td>0.030300</td>\n",
       "    </tr>\n",
       "    <tr>\n",
       "      <td>4000</td>\n",
       "      <td>0.027500</td>\n",
       "    </tr>\n",
       "    <tr>\n",
       "      <td>4500</td>\n",
       "      <td>0.021100</td>\n",
       "    </tr>\n",
       "    <tr>\n",
       "      <td>5000</td>\n",
       "      <td>0.024200</td>\n",
       "    </tr>\n",
       "    <tr>\n",
       "      <td>5500</td>\n",
       "      <td>0.019600</td>\n",
       "    </tr>\n",
       "    <tr>\n",
       "      <td>6000</td>\n",
       "      <td>0.016300</td>\n",
       "    </tr>\n",
       "    <tr>\n",
       "      <td>6500</td>\n",
       "      <td>0.019200</td>\n",
       "    </tr>\n",
       "    <tr>\n",
       "      <td>7000</td>\n",
       "      <td>0.016100</td>\n",
       "    </tr>\n",
       "    <tr>\n",
       "      <td>7500</td>\n",
       "      <td>0.015900</td>\n",
       "    </tr>\n",
       "  </tbody>\n",
       "</table><p>"
      ],
      "text/plain": [
       "<IPython.core.display.HTML object>"
      ]
     },
     "metadata": {},
     "output_type": "display_data"
    },
    {
     "ename": "",
     "evalue": "",
     "output_type": "error",
     "traceback": [
      "\u001b[1;31mThe Kernel crashed while executing code in the current cell or a previous cell. \n",
      "\u001b[1;31mPlease review the code in the cell(s) to identify a possible cause of the failure. \n",
      "\u001b[1;31mClick <a href='https://aka.ms/vscodeJupyterKernelCrash'>here</a> for more info. \n",
      "\u001b[1;31mView Jupyter <a href='command:jupyter.viewOutput'>log</a> for further details."
     ]
    }
   ],
   "source": [
    "\n",
    "model.fit(\n",
    "    train_objectives=[(train_dataloader, train_loss)],\n",
    "    epochs=10,  \n",
    "    warmup_steps=100,\n",
    "    show_progress_bar=True\n",
    ")\n",
    "\n",
    "\n",
    "model.save(\"model\")\n"
   ]
  },
  {
   "cell_type": "code",
   "execution_count": 7,
   "id": "b35a994d",
   "metadata": {},
   "outputs": [
    {
     "name": "stderr",
     "output_type": "stream",
     "text": [
      "Batches: 100%|██████████| 79/79 [00:38<00:00,  2.06it/s]\n"
     ]
    },
    {
     "name": "stdout",
     "output_type": "stream",
     "text": [
      "FAISS index built with 2499 quotes.\n"
     ]
    }
   ],
   "source": [
    "from sentence_transformers import SentenceTransformer\n",
    "import faiss\n",
    "import numpy as np\n",
    "\n",
    "# Load your fine-tuned model\n",
    "model = SentenceTransformer(\"quote-model\")\n",
    "\n",
    "# Create corpus of quotes\n",
    "corpus = [item[\"quote\"] for item in cleaned_quotes]\n",
    "\n",
    "# Step 1: Encode all quotes\n",
    "corpus_embeddings = model.encode(corpus, show_progress_bar=True, convert_to_numpy=True)\n",
    "\n",
    "# Step 2: Create FAISS index\n",
    "dimension = corpus_embeddings.shape[1]\n",
    "index = faiss.IndexFlatL2(dimension)\n",
    "index.add(corpus_embeddings)\n",
    "\n",
    "print(f\"FAISS index built with {index.ntotal} quotes.\")\n"
   ]
  },
  {
   "cell_type": "code",
   "execution_count": 8,
   "id": "180c7a5b",
   "metadata": {},
   "outputs": [],
   "source": [
    "def retrieve_quotes(query, top_k=5):\n",
    "    # Encode user query\n",
    "    query_embedding = model.encode([query], convert_to_numpy=True)\n",
    "\n",
    "    # Search in FAISS\n",
    "    distances, indices = index.search(query_embedding, top_k)\n",
    "\n",
    "    # Fetch top-k results\n",
    "    results = []\n",
    "    for idx in indices[0]:\n",
    "        result = cleaned_quotes[idx]\n",
    "        results.append({\n",
    "            \"quote\": result[\"quote\"],\n",
    "            \"author\": result[\"author\"],\n",
    "            \"tags\": result[\"tags\"]\n",
    "        })\n",
    "    return results\n"
   ]
  },
  {
   "cell_type": "code",
   "execution_count": 11,
   "id": "211512a2",
   "metadata": {},
   "outputs": [
    {
     "name": "stdout",
     "output_type": "stream",
     "text": [
      "\n",
      "QUOTE: “it is easy to love people in memory; the hard thing is to love them when they are there in front of you.”\n",
      "AUTHOR: john updike,\n",
      "TAGS: ['love']\n",
      "\n",
      "QUOTE: “love is a fire. but whether it is going to warm your hearth or burn down your house, you can never tell.”\n",
      "AUTHOR: joan crawford\n",
      "TAGS: ['love']\n",
      "\n",
      "QUOTE: “love is like the wind, you can't see it but you can feel it.”\n",
      "AUTHOR: nicholas sparks,\n",
      "TAGS: ['love', 'simile']\n",
      "\n",
      "QUOTE: “love is an untamed force. when we try to control it, it destroys us. when we try to imprison it, it enslaves us. when we try to understand it, it leaves us feeling lost and confused.”\n",
      "AUTHOR: paulo coelho\n",
      "TAGS: ['love']\n",
      "\n",
      "QUOTE: “we loved with a love that was more than love.”\n",
      "AUTHOR: edgar allen poe\n",
      "TAGS: ['logic', 'love']\n"
     ]
    }
   ],
   "source": [
    "query = \"quotes about love\"\n",
    "results = retrieve_quotes(query)\n",
    "\n",
    "for r in results:\n",
    "    print(f\"\\nQUOTE: {r['quote']}\\nAUTHOR: {r['author']}\\nTAGS: {r['tags']}\")\n"
   ]
  },
  {
   "cell_type": "code",
   "execution_count": 20,
   "id": "42a7e521",
   "metadata": {},
   "outputs": [
    {
     "name": "stderr",
     "output_type": "stream",
     "text": [
      "Batches: 100%|██████████| 79/79 [00:39<00:00,  1.99it/s]\n",
      "2025-07-05 21:55:53.014 WARNING streamlit.runtime.scriptrunner_utils.script_run_context: Thread 'MainThread': missing ScriptRunContext! This warning can be ignored when running in bare mode.\n",
      "2025-07-05 21:55:53.588 \n",
      "  \u001b[33m\u001b[1mWarning:\u001b[0m to view this Streamlit app on a browser, run it with the following\n",
      "  command:\n",
      "\n",
      "    streamlit run C:\\Users\\anshk\\AppData\\Roaming\\Python\\Python312\\site-packages\\ipykernel_launcher.py [ARGUMENTS]\n",
      "2025-07-05 21:55:53.593 Thread 'MainThread': missing ScriptRunContext! This warning can be ignored when running in bare mode.\n",
      "2025-07-05 21:55:53.599 Thread 'MainThread': missing ScriptRunContext! This warning can be ignored when running in bare mode.\n",
      "2025-07-05 21:55:53.603 Thread 'MainThread': missing ScriptRunContext! This warning can be ignored when running in bare mode.\n",
      "2025-07-05 21:55:53.608 Thread 'MainThread': missing ScriptRunContext! This warning can be ignored when running in bare mode.\n",
      "2025-07-05 21:55:53.615 Thread 'MainThread': missing ScriptRunContext! This warning can be ignored when running in bare mode.\n",
      "2025-07-05 21:55:53.619 Session state does not function when running a script without `streamlit run`\n",
      "2025-07-05 21:55:53.635 Thread 'MainThread': missing ScriptRunContext! This warning can be ignored when running in bare mode.\n",
      "2025-07-05 21:55:53.637 Thread 'MainThread': missing ScriptRunContext! This warning can be ignored when running in bare mode.\n"
     ]
    }
   ],
   "source": [
    "import streamlit as st\n",
    "from sentence_transformers import SentenceTransformer\n",
    "import faiss\n",
    "import numpy as np\n",
    "import json\n",
    "\n",
    "# Load fine-tuned model\n",
    "model = SentenceTransformer(\"quote-model\")\n",
    "\n",
    "# Load cleaned quotes\n",
    "import json\n",
    "with open(\"cleaned_quotes.json\", \"r\") as f:\n",
    "    cleaned_quotes = json.load(f)\n",
    "\n",
    "# Encode and build FAISS index\n",
    "corpus = [item[\"quote\"] for item in cleaned_quotes]\n",
    "corpus_embeddings = model.encode(corpus, convert_to_numpy=True, show_progress_bar=True)\n",
    "\n",
    "dimension = corpus_embeddings.shape[1]\n",
    "index = faiss.IndexFlatL2(dimension)\n",
    "index.add(np.array(corpus_embeddings))\n",
    "\n",
    "# Query function\n",
    "def retrieve_quotes(query, top_k=5):\n",
    "    query_embedding = model.encode([query], convert_to_numpy=True)\n",
    "    distances, indices = index.search(query_embedding, top_k)\n",
    "\n",
    "    results = []\n",
    "    for i, idx in enumerate(indices[0]):\n",
    "        item = cleaned_quotes[idx]\n",
    "        results.append({\n",
    "            \"quote\": item[\"quote\"],\n",
    "            \"author\": item[\"author\"],\n",
    "            \"tags\": item[\"tags\"],\n",
    "            \"similarity_score\": float(1 / (1 + distances[0][i]))  # simple inverted distance\n",
    "        })\n",
    "    return results\n",
    "\n",
    "# UI\n",
    "st.title(\"📚 Semantic Quote Retriever\")\n",
    "\n",
    "query = st.text_input(\"Enter a natural language query:\", placeholder=\"e.g., quotes about imagination by Einstein\")\n",
    "\n",
    "if query:\n",
    "    with st.spinner(\"Searching for matching quotes...\"):\n",
    "        results = retrieve_quotes(query)\n",
    "\n",
    "        st.subheader(\"Top Results (JSON View)\")\n",
    "        st.json(results)\n",
    "\n",
    "        st.subheader(\"Formatted View\")\n",
    "        for r in results:\n",
    "            st.markdown(f\"\"\"\n",
    "            **Quote:** _\"{r['quote']}\"_  \n",
    "            **Author:** {r['author']}  \n",
    "            **Tags:** {', '.join(r['tags'])}  \n",
    "            **Similarity Score:** {r['similarity_score']:.4f}\n",
    "            ---\n",
    "            \"\"\")\n"
   ]
  }
 ],
 "metadata": {
  "kernelspec": {
   "display_name": "Python 3",
   "language": "python",
   "name": "python3"
  },
  "language_info": {
   "codemirror_mode": {
    "name": "ipython",
    "version": 3
   },
   "file_extension": ".py",
   "mimetype": "text/x-python",
   "name": "python",
   "nbconvert_exporter": "python",
   "pygments_lexer": "ipython3",
   "version": "3.12.8"
  }
 },
 "nbformat": 4,
 "nbformat_minor": 5
}
